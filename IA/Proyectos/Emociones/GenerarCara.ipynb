{
 "cells": [
  {
   "cell_type": "code",
   "execution_count": 6,
   "id": "1801a86a-592f-423c-88b3-fc897351fcbd",
   "metadata": {},
   "outputs": [],
   "source": [
    "import numpy as np\n",
    "import cv2 as cv\n",
    "import math\n",
    "# Cargar el clasificador de rostros\n",
    "rostro = cv.CascadeClassifier('C:\\\\Users\\\\jared\\\\Caras\\\\haarcascade_frontalface_alt.xml')\n",
    "\n",
    "cap = cv.VideoCapture(0)\n",
    "i = 0\n",
    "while True:\n",
    "    ret, frame = cap.read()\n",
    "    gray = cv.cvtColor(frame, cv.COLOR_BGR2GRAY)\n",
    "    rostros = rostro.detectMultiScale(gray, 1.3, 5)\n",
    "    for(x, y, w, h) in rostros:\n",
    "        #frame = cv.rectangle(frame, (x,y), (x+w, y+h), (0, 255, 0), 2)\n",
    "        frame2 = frame[y:y+h, x:x+w]\n",
    "        frame2 = cv.resize(frame2, (100, 100), interpolation = cv.INTER_AREA)\n",
    "        cv.imshow('rostros encontrados', frame2)\n",
    "        cv.imwrite('C:\\\\Users\\\\jared\\\\Caras\\\\Personas2\\\\Triste\\\\'+str(i)+'.png', frame2)\n",
    "    #cv.imshow('rostros', frame) \n",
    "    i=i+1\n",
    "    k =cv.waitKey(1)\n",
    "    if k == 27 :\n",
    "        break\n",
    "cap.release()\n",
    "cv.destroyAllWindows()"
   ]
  },
  {
   "cell_type": "code",
   "execution_count": null,
   "id": "c9a13904-b298-4ed2-bb24-838e4eea7914",
   "metadata": {},
   "outputs": [],
   "source": []
  }
 ],
 "metadata": {
  "kernelspec": {
   "display_name": "Python 3 (ipykernel)",
   "language": "python",
   "name": "python3"
  },
  "language_info": {
   "codemirror_mode": {
    "name": "ipython",
    "version": 3
   },
   "file_extension": ".py",
   "mimetype": "text/x-python",
   "name": "python",
   "nbconvert_exporter": "python",
   "pygments_lexer": "ipython3",
   "version": "3.11.9"
  }
 },
 "nbformat": 4,
 "nbformat_minor": 5
}
