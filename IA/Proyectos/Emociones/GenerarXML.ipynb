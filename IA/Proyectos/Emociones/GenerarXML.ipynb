{
 "cells": [
  {
   "cell_type": "code",
   "execution_count": 1,
   "id": "0f27470c-41d5-4f28-9334-da30b899daa9",
   "metadata": {},
   "outputs": [
    {
     "name": "stdout",
     "output_type": "stream",
     "text": [
      "['Enojado', 'Feliz', 'Sorprendido', 'Triste']\n",
      "Termine\n"
     ]
    }
   ],
   "source": [
    "#Este es el código para generar el archivo XML con lbph:\n",
    "\n",
    "import cv2 as cv \n",
    "import numpy as np \n",
    "import os\n",
    "\n",
    "dataSet = 'C:\\\\Users\\\\jared\\\\Caras\\\\Personas2'\n",
    "faces  = os.listdir(dataSet)\n",
    "print(faces)\n",
    "\n",
    "labels = []\n",
    "facesData = []\n",
    "label = 0 \n",
    "for face in faces:\n",
    "    facePath = dataSet+'\\\\'+face\n",
    "    for faceName in os.listdir(facePath):\n",
    "        labels.append(label)\n",
    "        facesData.append(cv.imread(facePath+'\\\\'+faceName,0))\n",
    "    label = label + 1\n",
    "#print(np.count_nonzero(np.array(labels)==0)) \n",
    "faceRecognizer = cv.face.LBPHFaceRecognizer_create()\n",
    "faceRecognizer.train(facesData, np.array(labels))\n",
    "faceRecognizer.write('C:\\\\Users\\\\jared\\\\Caras\\\\XML2\\\\LBPHPnuevo.xml')\n",
    "print('Termine')\n"
   ]
  },
  {
   "cell_type": "code",
   "execution_count": null,
   "id": "f9635a7a-d1b9-42e4-b565-3f52720684d7",
   "metadata": {},
   "outputs": [],
   "source": []
  }
 ],
 "metadata": {
  "kernelspec": {
   "display_name": "Python 3 (ipykernel)",
   "language": "python",
   "name": "python3"
  },
  "language_info": {
   "codemirror_mode": {
    "name": "ipython",
    "version": 3
   },
   "file_extension": ".py",
   "mimetype": "text/x-python",
   "name": "python",
   "nbconvert_exporter": "python",
   "pygments_lexer": "ipython3",
   "version": "3.11.9"
  }
 },
 "nbformat": 4,
 "nbformat_minor": 5
}
