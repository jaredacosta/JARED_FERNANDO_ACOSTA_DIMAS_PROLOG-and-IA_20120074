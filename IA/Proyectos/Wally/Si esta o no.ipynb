{
 "cells": [
  {
   "cell_type": "code",
   "execution_count": 2,
   "id": "59f77874",
   "metadata": {},
   "outputs": [],
   "source": [
    "import numpy as np\n",
    "import cv2 as cv\n",
    "import os"
   ]
  },
  {
   "cell_type": "markdown",
   "id": "80f1c1e6",
   "metadata": {},
   "source": []
  },
  {
   "cell_type": "code",
   "execution_count": null,
   "id": "d3fb6db2-d99e-4596-9f6b-437cbac15860",
   "metadata": {},
   "outputs": [],
   "source": []
  },
  {
   "cell_type": "code",
   "execution_count": 14,
   "id": "f130a5ae-f21a-45ae-a874-5fce9f00b4da",
   "metadata": {},
   "outputs": [],
   "source": [
    "# Carga la imagen desde una ruta especificada.\n",
    "image = cv.imread(r'C:\\Users\\jared\\Wally\\1.jpg')\n",
    "# Convierte la imagen a escala de grises.\n",
    "gray = cv.cvtColor(image, cv.COLOR_BGR2GRAY)\n",
    "# Carga el clasificador en cascada desde una ruta especificada.\n",
    "wally = cv.CascadeClassifier(r'C:\\Users\\jared\\Wally\\cascade.xml')\n",
    "# Detecta objetos en la imagen usando el clasificador en cascada.\n",
    "waldo_detections = wally.detectMultiScale(gray, # Imagen en escala de grise\n",
    "                                          scaleFactor=1.11, #Factor de Escala para la Detección\n",
    "                                          minNeighbors=10,  # Número de vecinos que debe tener cada rectángulo candidato para retenerlo.\n",
    "                                          minSize=(5,5))  # Tamaño mínimo del objeto a detectar.\n",
    "\n",
    "# Itera sobre cada detección y dibuja un rectángulo y un texto en la imagen original.\n",
    "for (x, y, w, h) in waldo_detections:\n",
    "    cv.rectangle(image, (x, y), (x+w, y+h), (0, 255, 0), 2)  # Dibuja un rectángulo verde alrededor del objeto detectado.\n",
    "    cv.putText(image, 'Wally', (x, y-10), cv.FONT_HERSHEY_SIMPLEX, 0.9, (0, 255, 0), 2)  # Escribe \"Wally\" arriba del rectángulo.\n",
    "\n",
    "# Muestra la imagen con las detecciones en una ventana.\n",
    "cv.imshow('¿Donde esta Wally?', image)\n",
    "cv.waitKey(0) # Espera una tecla para cerrar la ventana.\n",
    "cv.destroyAllWindows()  # Destruye todas las ventanas creadas por OpenCV."
   ]
  },
  {
   "cell_type": "code",
   "execution_count": null,
   "id": "ccaaa452-4c82-403e-9936-6b56fddf4a54",
   "metadata": {},
   "outputs": [],
   "source": []
  },
  {
   "cell_type": "code",
   "execution_count": 6,
   "id": "25305d99",
   "metadata": {},
   "outputs": [],
   "source": [
    "#image = cv.imread(r'C:\\Users\\jared\\Wally\\wally_5.png') #waldo_detections = wally.detectMultiScale(gray, scaleFactor=1.07, minNeighbors=11, minSize=(5,5))\n",
    "#image = cv.imread(r'C:\\Users\\jared\\Wally\\wally_2.png') #waldo_detections = wally.detectMultiScale(gray, scaleFactor=1.07, minNeighbors=11, minSize=(5,5))\n",
    "#image = cv.imread(r'C:\\Users\\jared\\Wally\\wally_6.png') #waldo_detections = wally.detectMultiScale(gray, scaleFactor=1.07, minNeighbors=20, minSize=(5,5))\n",
    "#image = cv.imread(r'C:\\Users\\jared\\Wally\\wally_3.jpg') #waldo_detections = wally.detectMultiScale(gray, scaleFactor=1.04, minNeighbors=15, minSize=(5,5))\n",
    "image = cv.imread(r'C:\\Users\\jared\\Wally\\prueba.png')\n",
    "gray = cv.cvtColor(image, cv.COLOR_BGR2GRAY)\n",
    "\n",
    "wally = cv.CascadeClassifier(r'C:\\Users\\jared\\Wally\\cascade.xml')\n",
    "\n",
    "waldo_detections = wally.detectMultiScale(gray, scaleFactor=1.2, minNeighbors=14, minSize=(5,5))\n",
    "\n",
    "for (x, y, w, h) in waldo_detections:\n",
    "    cv.rectangle(image, (x, y), (x+w, y+h), (0, 255, 0), 2)\n",
    "    cv.putText(image, 'Wally', (x, y-10), cv.FONT_HERSHEY_SIMPLEX, 0.9, (0, 255, 0), 2)\n",
    "\n",
    "\n",
    "cv.imshow('¿Donde esta Wally?', image)\n",
    "cv.waitKey(0)\n",
    "cv.destroyAllWindows()"
   ]
  },
  {
   "cell_type": "markdown",
   "id": "78e860a9",
   "metadata": {},
   "source": []
  },
  {
   "cell_type": "code",
   "execution_count": 5,
   "id": "5d1edefb",
   "metadata": {},
   "outputs": [],
   "source": [
    "image = cv.imread(r'C:\\Users\\jared\\Wally\\wally_1.jpg')\n",
    "\n",
    "gray = cv.cvtColor(image, cv.COLOR_BGR2GRAY)\n",
    "\n",
    "wally = cv.CascadeClassifier(r'C:\\Users\\jared\\Wally\\cascade.xml')\n",
    "\n",
    "waldo_detections = wally.detectMultiScale(gray, scaleFactor=1.6, minNeighbors=4, minSize=(5,5))\n",
    "\n",
    "for (x, y, w, h) in waldo_detections:\n",
    "    cv.rectangle(image, (x, y), (x+w, y+h), (0, 255, 0), 2)\n",
    "    cv.putText(image, 'Wally', (x, y-10), cv.FONT_HERSHEY_SIMPLEX, 0.9, (0, 255, 0), 2)\n",
    "\n",
    "\n",
    "cv.imshow('¿Donde esta Wally?', image)\n",
    "cv.waitKey(0)\n",
    "cv.destroyAllWindows()"
   ]
  },
  {
   "cell_type": "markdown",
   "id": "c940aa1e",
   "metadata": {},
   "source": []
  },
  {
   "cell_type": "code",
   "execution_count": 75,
   "id": "50a10096",
   "metadata": {},
   "outputs": [],
   "source": [
    "image = cv.imread(r'C:\\Users\\jared\\Wally\\wally_2.png')\n",
    "\n",
    "gray = cv.cvtColor(image, cv.COLOR_BGR2GRAY)\n",
    "\n",
    "wally = cv.CascadeClassifier(r'C:\\Users\\jared\\Wally\\cascade.xml')\n",
    "\n",
    "waldo_detections = wally.detectMultiScale(gray, scaleFactor=1.5, minNeighbors=2, minSize=(5, 5))\n",
    "\n",
    "for (x, y, w, h) in waldo_detections:\n",
    "    cv.rectangle(image, (x, y), (x+w, y+h), (0, 255, 0), 2)\n",
    "    cv.putText(image, 'Wally', (x, y-10), cv.FONT_HERSHEY_SIMPLEX, 0.9, (0, 255, 0), 2)\n",
    "\n",
    "\n",
    "cv.imshow('¿Donde esta Wally?', image)\n",
    "cv.waitKey(0)\n",
    "cv.destroyAllWindows()"
   ]
  },
  {
   "cell_type": "markdown",
   "id": "1de7d9ea",
   "metadata": {},
   "source": []
  },
  {
   "cell_type": "markdown",
   "id": "24096c21",
   "metadata": {},
   "source": []
  },
  {
   "cell_type": "code",
   "execution_count": null,
   "id": "dede7266",
   "metadata": {},
   "outputs": [],
   "source": []
  },
  {
   "cell_type": "code",
   "execution_count": 73,
   "id": "9f4b300d",
   "metadata": {},
   "outputs": [],
   "source": [
    "image = cv.imread(r'C:\\Users\\jared\\Wally\\wally_5.png')\n",
    "\n",
    "gray = cv.cvtColor(image, cv.COLOR_BGR2GRAY)\n",
    "\n",
    "wally = cv.CascadeClassifier(r'C:\\Users\\jared\\Wally\\cascade.xml')\n",
    "\n",
    "waldo_detections = wally.detectMultiScale(gray, scaleFactor=1.07, minNeighbors=10, minSize=(5,5))\n",
    "\n",
    "for (x, y, w, h) in waldo_detections:\n",
    "    cv.rectangle(image, (x, y), (x+w, y+h), (0, 255, 0), 2)\n",
    "    cv.putText(image, 'Wally', (x, y-10), cv.FONT_HERSHEY_SIMPLEX, 0.9, (0, 255, 0), 2)\n",
    "\n",
    "\n",
    "cv.imshow('¿Donde esta Wally?', image)\n",
    "cv.waitKey(0)\n",
    "cv.destroyAllWindows()"
   ]
  },
  {
   "cell_type": "code",
   "execution_count": null,
   "id": "cba2d4d4-6ccd-47be-8787-3cc4cf37abca",
   "metadata": {},
   "outputs": [],
   "source": []
  },
  {
   "cell_type": "code",
   "execution_count": null,
   "id": "649402a6-6a0f-4d79-9eae-af4bb10cc6cb",
   "metadata": {},
   "outputs": [],
   "source": []
  }
 ],
 "metadata": {
  "kernelspec": {
   "display_name": "Python 3 (ipykernel)",
   "language": "python",
   "name": "python3"
  },
  "language_info": {
   "codemirror_mode": {
    "name": "ipython",
    "version": 3
   },
   "file_extension": ".py",
   "mimetype": "text/x-python",
   "name": "python",
   "nbconvert_exporter": "python",
   "pygments_lexer": "ipython3",
   "version": "3.11.9"
  }
 },
 "nbformat": 4,
 "nbformat_minor": 5
}
